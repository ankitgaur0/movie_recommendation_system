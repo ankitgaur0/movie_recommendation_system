{
 "cells": [
  {
   "cell_type": "code",
   "execution_count": 1,
   "metadata": {},
   "outputs": [],
   "source": [
    "import pandas as pd\n",
    "import zipfile"
   ]
  },
  {
   "cell_type": "code",
   "execution_count": 2,
   "metadata": {},
   "outputs": [],
   "source": [
    "from Logger import logging"
   ]
  },
  {
   "cell_type": "code",
   "execution_count": 3,
   "metadata": {},
   "outputs": [],
   "source": [
    "import os,sys\n",
    "from pathlib import Path\n",
    "from Custom_Exception import Custom_Exception"
   ]
  },
  {
   "cell_type": "code",
   "execution_count": 7,
   "metadata": {},
   "outputs": [],
   "source": [
    "zip_file=\"/home/ankit/movie_recommendation_system/Data/archive.zip\""
   ]
  },
  {
   "cell_type": "code",
   "execution_count": 8,
   "metadata": {},
   "outputs": [],
   "source": [
    "if not zip_file.endswith(\".zip\"):\n",
    "    raise Custom_Exception(ValueError,sys)"
   ]
  },
  {
   "cell_type": "code",
   "execution_count": 9,
   "metadata": {},
   "outputs": [],
   "source": [
    "with zipfile.ZipFile(zip_file,\"r\") as zip_ref:\n",
    "    zip_ref.extractall(\"Data/extracted_data\")"
   ]
  },
  {
   "cell_type": "code",
   "execution_count": 11,
   "metadata": {},
   "outputs": [],
   "source": [
    "extracted_files=os.listdir(\"Data/extracted_data\")\n",
    "csv_files=[f for f in extracted_files if f.endswith(\".csv\")]"
   ]
  },
  {
   "cell_type": "code",
   "execution_count": 12,
   "metadata": {},
   "outputs": [
    {
     "data": {
      "text/plain": [
       "['TMDB_all_movies.csv']"
      ]
     },
     "execution_count": 12,
     "metadata": {},
     "output_type": "execute_result"
    }
   ],
   "source": [
    "csv_files"
   ]
  },
  {
   "cell_type": "code",
   "execution_count": 14,
   "metadata": {},
   "outputs": [
    {
     "name": "stdout",
     "output_type": "stream",
     "text": [
      "there is only one file\n"
     ]
    }
   ],
   "source": [
    "if len(csv_files) ==0:\n",
    "    raise Custom_Exception(FileNotFoundError,sys)\n",
    "if len(csv_files) >1:\n",
    "    print(f\"please enter the desired file number\")\n",
    "    number=int(input(\"enter the number\"))\n",
    "else:\n",
    "    print(\"there is only one file\")"
   ]
  },
  {
   "cell_type": "code",
   "execution_count": 15,
   "metadata": {},
   "outputs": [],
   "source": [
    "csv_file=os.path.join(\"Data/extracted_data\",csv_files[0])\n",
    "df=pd.read_csv(csv_file)"
   ]
  },
  {
   "cell_type": "code",
   "execution_count": 16,
   "metadata": {},
   "outputs": [
    {
     "data": {
      "text/html": [
       "<div>\n",
       "<style scoped>\n",
       "    .dataframe tbody tr th:only-of-type {\n",
       "        vertical-align: middle;\n",
       "    }\n",
       "\n",
       "    .dataframe tbody tr th {\n",
       "        vertical-align: top;\n",
       "    }\n",
       "\n",
       "    .dataframe thead th {\n",
       "        text-align: right;\n",
       "    }\n",
       "</style>\n",
       "<table border=\"1\" class=\"dataframe\">\n",
       "  <thead>\n",
       "    <tr style=\"text-align: right;\">\n",
       "      <th></th>\n",
       "      <th>id</th>\n",
       "      <th>title</th>\n",
       "      <th>vote_average</th>\n",
       "      <th>vote_count</th>\n",
       "      <th>status</th>\n",
       "      <th>release_date</th>\n",
       "      <th>revenue</th>\n",
       "      <th>runtime</th>\n",
       "      <th>budget</th>\n",
       "      <th>imdb_id</th>\n",
       "      <th>...</th>\n",
       "      <th>production_countries</th>\n",
       "      <th>spoken_languages</th>\n",
       "      <th>cast</th>\n",
       "      <th>director</th>\n",
       "      <th>director_of_photography</th>\n",
       "      <th>writers</th>\n",
       "      <th>producers</th>\n",
       "      <th>music_composer</th>\n",
       "      <th>imdb_rating</th>\n",
       "      <th>imdb_votes</th>\n",
       "    </tr>\n",
       "  </thead>\n",
       "  <tbody>\n",
       "    <tr>\n",
       "      <th>0</th>\n",
       "      <td>2</td>\n",
       "      <td>Ariel</td>\n",
       "      <td>7.100</td>\n",
       "      <td>327.0</td>\n",
       "      <td>Released</td>\n",
       "      <td>1988-10-21</td>\n",
       "      <td>0.0</td>\n",
       "      <td>73.0</td>\n",
       "      <td>0.0</td>\n",
       "      <td>tt0094675</td>\n",
       "      <td>...</td>\n",
       "      <td>Finland</td>\n",
       "      <td>suomi</td>\n",
       "      <td>Eino Kuusela, Timo Harakka, Sirkka Rautiainen,...</td>\n",
       "      <td>Aki Kaurismäki</td>\n",
       "      <td>Timo Salminen</td>\n",
       "      <td>Aki Kaurismäki</td>\n",
       "      <td>Aki Kaurismäki</td>\n",
       "      <td>NaN</td>\n",
       "      <td>7.4</td>\n",
       "      <td>8668.0</td>\n",
       "    </tr>\n",
       "    <tr>\n",
       "      <th>1</th>\n",
       "      <td>3</td>\n",
       "      <td>Shadows in Paradise</td>\n",
       "      <td>7.300</td>\n",
       "      <td>369.0</td>\n",
       "      <td>Released</td>\n",
       "      <td>1986-10-17</td>\n",
       "      <td>0.0</td>\n",
       "      <td>74.0</td>\n",
       "      <td>0.0</td>\n",
       "      <td>tt0092149</td>\n",
       "      <td>...</td>\n",
       "      <td>Finland</td>\n",
       "      <td>suomi, English, svenska</td>\n",
       "      <td>Kati Outinen, Ulla Kuosmanen, Jaakko Talaskivi...</td>\n",
       "      <td>Aki Kaurismäki</td>\n",
       "      <td>Timo Salminen</td>\n",
       "      <td>Aki Kaurismäki</td>\n",
       "      <td>Mika Kaurismäki</td>\n",
       "      <td>NaN</td>\n",
       "      <td>7.5</td>\n",
       "      <td>7410.0</td>\n",
       "    </tr>\n",
       "    <tr>\n",
       "      <th>2</th>\n",
       "      <td>5</td>\n",
       "      <td>Four Rooms</td>\n",
       "      <td>5.800</td>\n",
       "      <td>2613.0</td>\n",
       "      <td>Released</td>\n",
       "      <td>1995-12-09</td>\n",
       "      <td>4257354.0</td>\n",
       "      <td>98.0</td>\n",
       "      <td>4000000.0</td>\n",
       "      <td>tt0113101</td>\n",
       "      <td>...</td>\n",
       "      <td>United States of America</td>\n",
       "      <td>English</td>\n",
       "      <td>Quinn Hellerman, Patricia Vonne, Jennifer Beal...</td>\n",
       "      <td>Allison Anders, Alexandre Rockwell, Robert Rod...</td>\n",
       "      <td>Andrzej Sekula, Rodrigo García, Guillermo Nava...</td>\n",
       "      <td>Allison Anders, Alexandre Rockwell, Robert Rod...</td>\n",
       "      <td>Alexandre Rockwell, Quentin Tarantino, Lawrenc...</td>\n",
       "      <td>Combustible Edison</td>\n",
       "      <td>6.7</td>\n",
       "      <td>112158.0</td>\n",
       "    </tr>\n",
       "    <tr>\n",
       "      <th>3</th>\n",
       "      <td>6</td>\n",
       "      <td>Judgment Night</td>\n",
       "      <td>6.483</td>\n",
       "      <td>329.0</td>\n",
       "      <td>Released</td>\n",
       "      <td>1993-10-15</td>\n",
       "      <td>12136938.0</td>\n",
       "      <td>109.0</td>\n",
       "      <td>21000000.0</td>\n",
       "      <td>tt0107286</td>\n",
       "      <td>...</td>\n",
       "      <td>United States of America</td>\n",
       "      <td>English</td>\n",
       "      <td>Kathleen Perkins, Relioues Webb, Emilio Esteve...</td>\n",
       "      <td>Stephen Hopkins</td>\n",
       "      <td>Peter Levy</td>\n",
       "      <td>Jere Cunningham, Lewis Colick</td>\n",
       "      <td>Marilyn Vance, Lloyd Segan, Gene Levy</td>\n",
       "      <td>Alan Silvestri</td>\n",
       "      <td>6.6</td>\n",
       "      <td>19178.0</td>\n",
       "    </tr>\n",
       "    <tr>\n",
       "      <th>4</th>\n",
       "      <td>8</td>\n",
       "      <td>Life in Loops (A Megacities RMX)</td>\n",
       "      <td>7.500</td>\n",
       "      <td>27.0</td>\n",
       "      <td>Released</td>\n",
       "      <td>2006-01-01</td>\n",
       "      <td>0.0</td>\n",
       "      <td>80.0</td>\n",
       "      <td>42000.0</td>\n",
       "      <td>tt0825671</td>\n",
       "      <td>...</td>\n",
       "      <td>Austria</td>\n",
       "      <td>English, हिन्दी, 日本語, Pусский, Español</td>\n",
       "      <td>NaN</td>\n",
       "      <td>Timo Novotny</td>\n",
       "      <td>Wolfgang Thaler</td>\n",
       "      <td>Michael Glawogger, Timo Novotny</td>\n",
       "      <td>Ulrich Gehmacher, Timo Novotny</td>\n",
       "      <td>NaN</td>\n",
       "      <td>8.2</td>\n",
       "      <td>283.0</td>\n",
       "    </tr>\n",
       "  </tbody>\n",
       "</table>\n",
       "<p>5 rows × 27 columns</p>\n",
       "</div>"
      ],
      "text/plain": [
       "   id                             title  vote_average  vote_count    status  \\\n",
       "0   2                             Ariel         7.100       327.0  Released   \n",
       "1   3               Shadows in Paradise         7.300       369.0  Released   \n",
       "2   5                        Four Rooms         5.800      2613.0  Released   \n",
       "3   6                    Judgment Night         6.483       329.0  Released   \n",
       "4   8  Life in Loops (A Megacities RMX)         7.500        27.0  Released   \n",
       "\n",
       "  release_date     revenue  runtime      budget    imdb_id  ...  \\\n",
       "0   1988-10-21         0.0     73.0         0.0  tt0094675  ...   \n",
       "1   1986-10-17         0.0     74.0         0.0  tt0092149  ...   \n",
       "2   1995-12-09   4257354.0     98.0   4000000.0  tt0113101  ...   \n",
       "3   1993-10-15  12136938.0    109.0  21000000.0  tt0107286  ...   \n",
       "4   2006-01-01         0.0     80.0     42000.0  tt0825671  ...   \n",
       "\n",
       "       production_countries                        spoken_languages  \\\n",
       "0                   Finland                                   suomi   \n",
       "1                   Finland                 suomi, English, svenska   \n",
       "2  United States of America                                 English   \n",
       "3  United States of America                                 English   \n",
       "4                   Austria  English, हिन्दी, 日本語, Pусский, Español   \n",
       "\n",
       "                                                cast  \\\n",
       "0  Eino Kuusela, Timo Harakka, Sirkka Rautiainen,...   \n",
       "1  Kati Outinen, Ulla Kuosmanen, Jaakko Talaskivi...   \n",
       "2  Quinn Hellerman, Patricia Vonne, Jennifer Beal...   \n",
       "3  Kathleen Perkins, Relioues Webb, Emilio Esteve...   \n",
       "4                                                NaN   \n",
       "\n",
       "                                            director  \\\n",
       "0                                     Aki Kaurismäki   \n",
       "1                                     Aki Kaurismäki   \n",
       "2  Allison Anders, Alexandre Rockwell, Robert Rod...   \n",
       "3                                    Stephen Hopkins   \n",
       "4                                       Timo Novotny   \n",
       "\n",
       "                             director_of_photography  \\\n",
       "0                                      Timo Salminen   \n",
       "1                                      Timo Salminen   \n",
       "2  Andrzej Sekula, Rodrigo García, Guillermo Nava...   \n",
       "3                                         Peter Levy   \n",
       "4                                    Wolfgang Thaler   \n",
       "\n",
       "                                             writers  \\\n",
       "0                                     Aki Kaurismäki   \n",
       "1                                     Aki Kaurismäki   \n",
       "2  Allison Anders, Alexandre Rockwell, Robert Rod...   \n",
       "3                      Jere Cunningham, Lewis Colick   \n",
       "4                    Michael Glawogger, Timo Novotny   \n",
       "\n",
       "                                           producers      music_composer  \\\n",
       "0                                     Aki Kaurismäki                 NaN   \n",
       "1                                    Mika Kaurismäki                 NaN   \n",
       "2  Alexandre Rockwell, Quentin Tarantino, Lawrenc...  Combustible Edison   \n",
       "3              Marilyn Vance, Lloyd Segan, Gene Levy      Alan Silvestri   \n",
       "4                     Ulrich Gehmacher, Timo Novotny                 NaN   \n",
       "\n",
       "  imdb_rating imdb_votes  \n",
       "0         7.4     8668.0  \n",
       "1         7.5     7410.0  \n",
       "2         6.7   112158.0  \n",
       "3         6.6    19178.0  \n",
       "4         8.2      283.0  \n",
       "\n",
       "[5 rows x 27 columns]"
      ]
     },
     "execution_count": 16,
     "metadata": {},
     "output_type": "execute_result"
    }
   ],
   "source": [
    "df.head()"
   ]
  },
  {
   "cell_type": "code",
   "execution_count": 17,
   "metadata": {},
   "outputs": [
    {
     "data": {
      "text/plain": [
       "(992715, 27)"
      ]
     },
     "execution_count": 17,
     "metadata": {},
     "output_type": "execute_result"
    }
   ],
   "source": [
    "df.shape"
   ]
  },
  {
   "cell_type": "code",
   "execution_count": 18,
   "metadata": {},
   "outputs": [
    {
     "data": {
      "text/plain": [
       "id                              0\n",
       "title                           9\n",
       "vote_average                    2\n",
       "vote_count                      2\n",
       "status                          2\n",
       "release_date               109173\n",
       "revenue                         2\n",
       "runtime                         2\n",
       "budget                          2\n",
       "imdb_id                    412422\n",
       "original_language               2\n",
       "original_title                 10\n",
       "overview                   174970\n",
       "popularity                      2\n",
       "tagline                    846092\n",
       "genres                     290472\n",
       "production_companies       536404\n",
       "production_countries       392267\n",
       "spoken_languages           382875\n",
       "cast                       330911\n",
       "director                   180264\n",
       "director_of_photography    755911\n",
       "writers                    514303\n",
       "producers                  679417\n",
       "music_composer             895421\n",
       "imdb_rating                570101\n",
       "imdb_votes                 570101\n",
       "dtype: int64"
      ]
     },
     "execution_count": 18,
     "metadata": {},
     "output_type": "execute_result"
    }
   ],
   "source": [
    "df.isnull().sum()"
   ]
  },
  {
   "cell_type": "code",
   "execution_count": 19,
   "metadata": {},
   "outputs": [
    {
     "data": {
      "text/plain": [
       "0"
      ]
     },
     "execution_count": 19,
     "metadata": {},
     "output_type": "execute_result"
    }
   ],
   "source": [
    "df.duplicated().sum()"
   ]
  },
  {
   "cell_type": "code",
   "execution_count": null,
   "metadata": {},
   "outputs": [],
   "source": []
  }
 ],
 "metadata": {
  "kernelspec": {
   "display_name": "Python 3",
   "language": "python",
   "name": "python3"
  },
  "language_info": {
   "codemirror_mode": {
    "name": "ipython",
    "version": 3
   },
   "file_extension": ".py",
   "mimetype": "text/x-python",
   "name": "python",
   "nbconvert_exporter": "python",
   "pygments_lexer": "ipython3",
   "version": "3.9.0"
  }
 },
 "nbformat": 4,
 "nbformat_minor": 2
}
