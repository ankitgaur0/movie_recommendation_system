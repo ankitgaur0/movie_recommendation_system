{
 "cells": [
  {
   "cell_type": "markdown",
   "metadata": {},
   "source": [
    "# Exploration Data Analysis notebook file"
   ]
  },
  {
   "cell_type": "code",
   "execution_count": 11,
   "metadata": {},
   "outputs": [],
   "source": [
    "import os,sys\n",
    "import pickle"
   ]
  },
  {
   "cell_type": "code",
   "execution_count": 3,
   "metadata": {},
   "outputs": [],
   "source": [
    "from analysis.analysis_src.basic_data_Inspection import Data_Inspector,Data_Inspection_Strategies,ShowDataInspectionStrategy,SummaryStatisticsInspectionStrategy,InformationInspectionStrategy,DuplicateInspectionStrategy"
   ]
  },
  {
   "cell_type": "code",
   "execution_count": 10,
   "metadata": {},
   "outputs": [],
   "source": [
    "pkl_data_path=os.path.join(os.path.dirname(os.getcwd()),\"Data\",\"processed\",\"raw_data.pkl\")"
   ]
  },
  {
   "cell_type": "code",
   "execution_count": 12,
   "metadata": {},
   "outputs": [],
   "source": [
    "with open(pkl_data_path,\"rb\") as file:\n",
    "    df=pickle.load(file)"
   ]
  },
  {
   "cell_type": "code",
   "execution_count": 22,
   "metadata": {},
   "outputs": [
    {
     "name": "stdout",
     "output_type": "stream",
     "text": [
      "\n",
      "Show dataframe\n",
      "   id                             title  vote_average  vote_count    status  \\\n",
      "0   2                             Ariel         7.100       327.0  Released   \n",
      "1   3               Shadows in Paradise         7.300       369.0  Released   \n",
      "2   5                        Four Rooms         5.800      2613.0  Released   \n",
      "3   6                    Judgment Night         6.483       329.0  Released   \n",
      "4   8  Life in Loops (A Megacities RMX)         7.500        27.0  Released   \n",
      "\n",
      "  release_date     revenue  runtime      budget    imdb_id  ...  \\\n",
      "0   1988-10-21         0.0     73.0         0.0  tt0094675  ...   \n",
      "1   1986-10-17         0.0     74.0         0.0  tt0092149  ...   \n",
      "2   1995-12-09   4257354.0     98.0   4000000.0  tt0113101  ...   \n",
      "3   1993-10-15  12136938.0    109.0  21000000.0  tt0107286  ...   \n",
      "4   2006-01-01         0.0     80.0     42000.0  tt0825671  ...   \n",
      "\n",
      "       production_countries                        spoken_languages  \\\n",
      "0                   Finland                                   suomi   \n",
      "1                   Finland                 suomi, English, svenska   \n",
      "2  United States of America                                 English   \n",
      "3  United States of America                                 English   \n",
      "4                   Austria  English, हिन्दी, 日本語, Pусский, Español   \n",
      "\n",
      "                                                cast  \\\n",
      "0  Eino Kuusela, Timo Harakka, Sirkka Rautiainen,...   \n",
      "1  Kati Outinen, Ulla Kuosmanen, Jaakko Talaskivi...   \n",
      "2  Quinn Hellerman, Patricia Vonne, Jennifer Beal...   \n",
      "3  Kathleen Perkins, Relioues Webb, Emilio Esteve...   \n",
      "4                                                NaN   \n",
      "\n",
      "                                            director  \\\n",
      "0                                     Aki Kaurismäki   \n",
      "1                                     Aki Kaurismäki   \n",
      "2  Allison Anders, Alexandre Rockwell, Robert Rod...   \n",
      "3                                    Stephen Hopkins   \n",
      "4                                       Timo Novotny   \n",
      "\n",
      "                             director_of_photography  \\\n",
      "0                                      Timo Salminen   \n",
      "1                                      Timo Salminen   \n",
      "2  Andrzej Sekula, Rodrigo García, Guillermo Nava...   \n",
      "3                                         Peter Levy   \n",
      "4                                    Wolfgang Thaler   \n",
      "\n",
      "                                             writers  \\\n",
      "0                                     Aki Kaurismäki   \n",
      "1                                     Aki Kaurismäki   \n",
      "2  Allison Anders, Alexandre Rockwell, Robert Rod...   \n",
      "3                      Jere Cunningham, Lewis Colick   \n",
      "4                    Michael Glawogger, Timo Novotny   \n",
      "\n",
      "                                           producers      music_composer  \\\n",
      "0                                     Aki Kaurismäki                 NaN   \n",
      "1                                    Mika Kaurismäki                 NaN   \n",
      "2  Alexandre Rockwell, Quentin Tarantino, Lawrenc...  Combustible Edison   \n",
      "3              Marilyn Vance, Lloyd Segan, Gene Levy      Alan Silvestri   \n",
      "4                     Ulrich Gehmacher, Timo Novotny                 NaN   \n",
      "\n",
      "  imdb_rating imdb_votes  \n",
      "0         7.4     8668.0  \n",
      "1         7.5     7410.0  \n",
      "2         6.7   112158.0  \n",
      "3         6.6    19178.0  \n",
      "4         8.2      283.0  \n",
      "\n",
      "[5 rows x 27 columns]\n",
      "\n",
      "Shape of the DataFrame\n",
      "(992715, 27)\n",
      "\n",
      "Columns names\n",
      "Index(['id', 'title', 'vote_average', 'vote_count', 'status', 'release_date',\n",
      "       'revenue', 'runtime', 'budget', 'imdb_id', 'original_language',\n",
      "       'original_title', 'overview', 'popularity', 'tagline', 'genres',\n",
      "       'production_companies', 'production_countries', 'spoken_languages',\n",
      "       'cast', 'director', 'director_of_photography', 'writers', 'producers',\n",
      "       'music_composer', 'imdb_rating', 'imdb_votes'],\n",
      "      dtype='object')\n"
     ]
    }
   ],
   "source": [
    "#Initalize the Data_Inspector with strategy (ShowDataInspectionStrategy )\n",
    "inspector=Data_Inspector(ShowDataInspectionStrategy())\n",
    "#execute the strategy\n",
    "inspector.execute_inspection(df)"
   ]
  },
  {
   "cell_type": "code",
   "execution_count": 19,
   "metadata": {},
   "outputs": [
    {
     "name": "stdout",
     "output_type": "stream",
     "text": [
      "\n",
      "Summary Statistics for Numerical Features\n",
      "                 id   vote_average     vote_count       revenue  \\\n",
      "count  9.927150e+05  992713.000000  992713.000000  9.927130e+05   \n",
      "mean   7.040750e+05       2.149999      23.636974  7.998805e+05   \n",
      "std    3.896680e+05       3.098028     363.757928  1.846750e+07   \n",
      "min    2.000000e+00       0.000000       0.000000 -1.200000e+01   \n",
      "25%    3.772145e+05       0.000000       0.000000  0.000000e+00   \n",
      "50%    6.992940e+05       0.000000       0.000000  0.000000e+00   \n",
      "75%    1.047742e+06       5.000000       1.000000  0.000000e+00   \n",
      "max    5.180730e+06      10.000000   36269.000000  3.000000e+09   \n",
      "\n",
      "             runtime        budget     popularity    imdb_rating    imdb_votes  \n",
      "count  992713.000000  9.927130e+05  992713.000000  422614.000000  4.226140e+05  \n",
      "mean       45.677814  3.107069e+05       1.945942       6.259776  2.825244e+03  \n",
      "std        58.285276  5.018650e+06       6.927964       1.316289  3.162069e+04  \n",
      "min         0.000000  0.000000e+00       0.000000       1.000000  5.000000e+00  \n",
      "25%         1.000000  0.000000e+00       0.600000       5.500000  2.000000e+01  \n",
      "50%        24.000000  0.000000e+00       0.850000       6.400000  6.000000e+01  \n",
      "75%        86.000000  0.000000e+00       1.525000       7.100000  2.690000e+02  \n",
      "max     14400.000000  6.456547e+08    2107.374000      10.000000  2.941043e+06  \n",
      "\n",
      "Summary Statistics for Categorical Features\n",
      "         title    status release_date     imdb_id original_language  \\\n",
      "count   992706    992713       883542      580293            992713   \n",
      "unique  846410         6        42921      579857               175   \n",
      "top       Home  Released   2006-01-01  tt32094375                en   \n",
      "freq       148    976249         3159          30            494820   \n",
      "\n",
      "       original_title overview          tagline       genres  \\\n",
      "count          992705   817745           146623       702243   \n",
      "unique         882414   799282           142437        14112   \n",
      "top          Untitled           animation short  Documentary   \n",
      "freq              110     1015              100       139826   \n",
      "\n",
      "       production_companies      production_countries spoken_languages  \\\n",
      "count                456311                    600448           609840   \n",
      "unique               213582                     10598             6703   \n",
      "top                     BBC  United States of America          English   \n",
      "freq                   2409                    142197           200980   \n",
      "\n",
      "             cast        director director_of_photography  \\\n",
      "count      661804          812451                  236804   \n",
      "unique     619033          329411                   83271   \n",
      "top     Mel Blanc  Dave Fleischer         Jozef Brezanský   \n",
      "freq          396             541                     177   \n",
      "\n",
      "                    writers                       producers music_composer  \n",
      "count                478412                          313298          97294  \n",
      "unique               333263                          224160          32787  \n",
      "top     William Shakespeare  Auguste Lumière, Louis Lumière    Ilaiyaraaja  \n",
      "freq                    290                             801            346  \n"
     ]
    }
   ],
   "source": [
    "inspector.set_strategy(SummaryStatisticsInspectionStrategy())\n",
    "inspector.execute_inspection(df)"
   ]
  },
  {
   "cell_type": "code",
   "execution_count": 20,
   "metadata": {},
   "outputs": [
    {
     "name": "stdout",
     "output_type": "stream",
     "text": [
      "\n",
      " Information of the dataframe is:\n",
      "<class 'pandas.core.frame.DataFrame'>\n",
      "RangeIndex: 992715 entries, 0 to 992714\n",
      "Data columns (total 27 columns):\n",
      " #   Column                   Non-Null Count   Dtype  \n",
      "---  ------                   --------------   -----  \n",
      " 0   id                       992715 non-null  int64  \n",
      " 1   title                    992706 non-null  object \n",
      " 2   vote_average             992713 non-null  float64\n",
      " 3   vote_count               992713 non-null  float64\n",
      " 4   status                   992713 non-null  object \n",
      " 5   release_date             883542 non-null  object \n",
      " 6   revenue                  992713 non-null  float64\n",
      " 7   runtime                  992713 non-null  float64\n",
      " 8   budget                   992713 non-null  float64\n",
      " 9   imdb_id                  580293 non-null  object \n",
      " 10  original_language        992713 non-null  object \n",
      " 11  original_title           992705 non-null  object \n",
      " 12  overview                 817745 non-null  object \n",
      " 13  popularity               992713 non-null  float64\n",
      " 14  tagline                  146623 non-null  object \n",
      " 15  genres                   702243 non-null  object \n",
      " 16  production_companies     456311 non-null  object \n",
      " 17  production_countries     600448 non-null  object \n",
      " 18  spoken_languages         609840 non-null  object \n",
      " 19  cast                     661804 non-null  object \n",
      " 20  director                 812451 non-null  object \n",
      " 21  director_of_photography  236804 non-null  object \n",
      " 22  writers                  478412 non-null  object \n",
      " 23  producers                313298 non-null  object \n",
      " 24  music_composer           97294 non-null   object \n",
      " 25  imdb_rating              422614 non-null  float64\n",
      " 26  imdb_votes               422614 non-null  float64\n",
      "dtypes: float64(8), int64(1), object(18)\n",
      "memory usage: 204.5+ MB\n",
      "None\n"
     ]
    }
   ],
   "source": [
    "inspector.set_strategy(InformationInspectionStrategy())\n",
    "inspector.execute_inspection(df)"
   ]
  },
  {
   "cell_type": "markdown",
   "metadata": {},
   "source": [
    "# Explaination Data Analysis: Make a Story from Data"
   ]
  },
  {
   "cell_type": "markdown",
   "metadata": {},
   "source": [
    "# Insights\n",
    "1. **Data Types and Non-null Counts:**\n",
    "    - The dataset contains 992715 entries and 27 columns.  \n",
    "    - **Datatypes**: There are 1 column with 'int64' data type, 8 columns with 'float64' data type and 18 column with 'object' data type.  \n",
    "        - **Numerical Features** : These include features like \"id\",\"vote_average\",\"revenue\",\"budget\",\"popularity\",\"etc\"\n",
    "        - **Categorical Features**: Features like \"title\",\"status\",\"original_language\",\"spoken_languages\",\"director_of_photography\",\" etc\". are categorical featues."
   ]
  },
  {
   "cell_type": "markdown",
   "metadata": {},
   "source": [
    "2. - **Summary Statistics**:\n",
    "    - **Numerical Features** :\n",
    "        - **\"id\"**: Range from 2 to 5.18 million, indicating a wide range of unique entries.\n",
    "        - **vote_average**:\n",
    "            - Mean : 2.14 ,which shows a low average rating\n",
    "            - Min: 0, Max : 10.0 (expected range),but medium is 0, suggesting many items are unrated.\n",
    "        - **vote_count**:\n",
    "            - Mean : 23.636974, But the high standard deviation (363.76) indicates a skewness towards a few items receiving the most vote.\n",
    "        - **revenue**:\n",
    "            - Mean : $799,880 , with many entries at 0 revenue (median=0).This indicates many movies are unreleased or low-grossing movies.\n",
    "            - The maximum revenue is a staggering 3.000000e+09 means $3 billion.\n",
    "        - **runtime**:\n",
    "            - Mean : 45.68 minutes, with a wide standard deviation 58.28 minutes.\n",
    "            - The maximum runtime is 14400 minutes , likely an anomly.\n",
    "        - **budget**:'\n",
    "            - Mean : $310,706 , but like revenue feature most entires have 0 budget, indicating missing and lower-budgets data.\n",
    "        - **popularity**:\n",
    "            - Mean : 1.945 and standard devation is 6.927964 and the max is 2107.35. Many movies seem to have very low popularity.\n",
    "        - **imdb_rating**:\n",
    "            - Mean : 6.26, Median :6.4 -- suggests most movies hover around average ratings.\n",
    "            - imdb_votes : Most movies have very low votes, with a medium  of just 60 votes but few outliers with millions of votes.\n",
    "    - **Categorical Features**:\n",
    "        - **title**:\n",
    "            - Most frequency title is \"Home\"(148 times).\n",
    "\n",
    "        - **status**:\n",
    "            - Dominated by \"Released\"(976,249 entires),indicates that the majority movies have been realeased.\n",
    "\n",
    "        - **release_date**:\n",
    "            - Most frequency release data :january 1,2006.\n",
    "            - There are 42,921 unique release data, indicates may be wrong or duplicate dates or may be most moives release date have same.\n",
    "\n",
    "        - **original language**:\n",
    "            - Top language :English (494,820 entires) , indicates this dataset is primarily focused on the english-language movies.\n",
    "            - There are 175 unique lanuages.\n",
    "        - **genres**:\n",
    "            - The most frequent genre is \"Documentary\" (139,826 entries).\n",
    "            - There are 14,112 unique genres, with a wide variety in movie types.\n",
    "        - **production company**:\n",
    "            - Most frequent company: BBC (2409 movies).\n",
    "        - **production countries**:\n",
    "            - The United States of America appears most often (142,197 movies), indicating the dataset's skew towards Hollywood.\n",
    "        - **cast**:\n",
    "            - The most frequent actor is Mel Blanc, known for voicing animated characters.\n",
    "        - **director**:\n",
    "            - The most frequent director is Dave Fleischer, with 541 movies.\n",
    "        \n",
    "        - **writers**:\n",
    "            - William Shakespeare tops the list of writers (290 occurrences), reflecting a possible trend of adaptations.\n",
    "        \n",
    "        - **music_composer**:\n",
    "            -Ilaiyaraaja is the most frequent composer.\n",
    "\n",
    "        "
   ]
  },
  {
   "cell_type": "markdown",
   "metadata": {},
   "source": []
  }
 ],
 "metadata": {
  "kernelspec": {
   "display_name": "Python 3",
   "language": "python",
   "name": "python3"
  },
  "language_info": {
   "codemirror_mode": {
    "name": "ipython",
    "version": 3
   },
   "file_extension": ".py",
   "mimetype": "text/x-python",
   "name": "python",
   "nbconvert_exporter": "python",
   "pygments_lexer": "ipython3",
   "version": "3.9.0"
  }
 },
 "nbformat": 4,
 "nbformat_minor": 2
}
